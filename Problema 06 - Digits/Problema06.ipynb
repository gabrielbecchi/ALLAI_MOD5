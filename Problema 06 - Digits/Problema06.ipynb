{
  "nbformat": 4,
  "nbformat_minor": 0,
  "metadata": {
    "colab": {
      "name": "Problema06.ipynb",
      "provenance": [],
      "collapsed_sections": []
    },
    "kernelspec": {
      "name": "python3",
      "display_name": "Python 3"
    },
    "language_info": {
      "name": "python"
    }
  },
  "cells": [
    {
      "cell_type": "code",
      "metadata": {
        "id": "hS6CFBgO9H7B"
      },
      "source": [
        "import pandas as p\n",
        "import numpy as np\n",
        "\n",
        "from sklearn.datasets import load_digits\n",
        "from sklearn import preprocessing\n",
        "from sklearn.model_selection import cross_validate\n",
        "from sklearn.metrics import confusion_matrix\n",
        "\n",
        "from sklearn.linear_model import LogisticRegression\n",
        "from sklearn.naive_bayes import GaussianNB\n",
        "from sklearn.neighbors import KNeighborsClassifier\n",
        "from sklearn.tree import DecisionTreeClassifier\n",
        "from sklearn.svm import SVC\n",
        "\n",
        "from sklearn.multiclass import OneVsRestClassifier\n",
        "from sklearn.multiclass import OneVsOneClassifier\n",
        "from sklearn.multiclass import OutputCodeClassifier"
      ],
      "execution_count": 1,
      "outputs": []
    },
    {
      "cell_type": "code",
      "metadata": {
        "id": "SDFYiFSY9ME_"
      },
      "source": [
        "# LOADING DATA\n",
        "data = load_digits()\n",
        "\n",
        "# PRE-PROCESSING\n",
        "scaler = preprocessing.MinMaxScaler().fit(data.data)\n",
        "data.data = scaler.transform(data.data)\n",
        "\n",
        "# CLASSIFICATIONS \n",
        "scoring = ['accuracy', 'f1_weighted','precision_weighted','recall_weighted']\n",
        "scores = {}"
      ],
      "execution_count": 2,
      "outputs": []
    },
    {
      "cell_type": "code",
      "metadata": {
        "id": "iKxBoFIB9P8E"
      },
      "source": [
        "# LOGISTIC REGRESSION\n",
        "engine = OneVsRestClassifier(LogisticRegression())\n",
        "scores['LR_OvR'] = cross_validate(engine, data.data, data.target, scoring=scoring)\n",
        "engine = OneVsOneClassifier(LogisticRegression())\n",
        "scores['LR_OvO'] = cross_validate(engine, data.data, data.target, scoring=scoring)\n",
        "engine = OutputCodeClassifier(LogisticRegression())\n",
        "scores['LR_OC'] = cross_validate(engine, data.data, data.target, scoring=scoring)"
      ],
      "execution_count": 3,
      "outputs": []
    },
    {
      "cell_type": "code",
      "metadata": {
        "colab": {
          "base_uri": "https://localhost:8080/"
        },
        "id": "hbVuNo-N9Tac",
        "outputId": "249fe5bc-fbad-427c-fb05-67af52a4857d"
      },
      "source": [
        "\n",
        "# NAIVE BAYES\n",
        "engine = OneVsRestClassifier(GaussianNB())\n",
        "scores['NB_OvR'] = cross_validate(engine, data.data, data.target, scoring=scoring)\n",
        "engine = OneVsOneClassifier(GaussianNB())\n",
        "scores['NB_OvO'] = cross_validate(engine, data.data, data.target, scoring=scoring)\n",
        "engine = OutputCodeClassifier(GaussianNB())\n",
        "scores['NB_OC'] = cross_validate(engine, data.data, data.target, scoring=scoring)"
      ],
      "execution_count": 4,
      "outputs": [
        {
          "output_type": "stream",
          "name": "stderr",
          "text": [
            "/usr/local/lib/python3.7/dist-packages/sklearn/metrics/_classification.py:1272: UndefinedMetricWarning: Precision is ill-defined and being set to 0.0 in labels with no predicted samples. Use `zero_division` parameter to control this behavior.\n",
            "  _warn_prf(average, modifier, msg_start, len(result))\n",
            "/usr/local/lib/python3.7/dist-packages/sklearn/metrics/_classification.py:1272: UndefinedMetricWarning: Precision is ill-defined and being set to 0.0 in labels with no predicted samples. Use `zero_division` parameter to control this behavior.\n",
            "  _warn_prf(average, modifier, msg_start, len(result))\n",
            "/usr/local/lib/python3.7/dist-packages/sklearn/metrics/_classification.py:1272: UndefinedMetricWarning: Precision is ill-defined and being set to 0.0 in labels with no predicted samples. Use `zero_division` parameter to control this behavior.\n",
            "  _warn_prf(average, modifier, msg_start, len(result))\n",
            "/usr/local/lib/python3.7/dist-packages/sklearn/metrics/_classification.py:1272: UndefinedMetricWarning: Precision is ill-defined and being set to 0.0 in labels with no predicted samples. Use `zero_division` parameter to control this behavior.\n",
            "  _warn_prf(average, modifier, msg_start, len(result))\n",
            "/usr/local/lib/python3.7/dist-packages/sklearn/metrics/_classification.py:1272: UndefinedMetricWarning: Precision is ill-defined and being set to 0.0 in labels with no predicted samples. Use `zero_division` parameter to control this behavior.\n",
            "  _warn_prf(average, modifier, msg_start, len(result))\n",
            "/usr/local/lib/python3.7/dist-packages/sklearn/metrics/_classification.py:1272: UndefinedMetricWarning: Precision is ill-defined and being set to 0.0 in labels with no predicted samples. Use `zero_division` parameter to control this behavior.\n",
            "  _warn_prf(average, modifier, msg_start, len(result))\n"
          ]
        }
      ]
    },
    {
      "cell_type": "code",
      "metadata": {
        "id": "28G1gZMj9Vlh"
      },
      "source": [
        "# KNN\n",
        "engine = OneVsRestClassifier(KNeighborsClassifier())\n",
        "scores['KNN_OvR'] = cross_validate(engine, data.data, data.target, scoring=scoring)\n",
        "engine = OneVsOneClassifier(KNeighborsClassifier())\n",
        "scores['KNN_OvO'] = cross_validate(engine, data.data, data.target, scoring=scoring)\n",
        "engine = OutputCodeClassifier(KNeighborsClassifier())\n",
        "scores['KNN_OC'] = cross_validate(engine, data.data, data.target, scoring=scoring)"
      ],
      "execution_count": 5,
      "outputs": []
    },
    {
      "cell_type": "code",
      "metadata": {
        "id": "DgX95Fal9Xob"
      },
      "source": [
        "# DECISION TREE\n",
        "engine = OneVsRestClassifier(DecisionTreeClassifier())\n",
        "scores['DT_OvR'] = cross_validate(engine, data.data, data.target, scoring=scoring)\n",
        "engine = OneVsOneClassifier(DecisionTreeClassifier())\n",
        "scores['DT_OvO'] = cross_validate(engine, data.data, data.target, scoring=scoring)\n",
        "engine = OutputCodeClassifier(DecisionTreeClassifier())\n",
        "scores['DT_OC'] = cross_validate(engine, data.data, data.target, scoring=scoring)"
      ],
      "execution_count": 6,
      "outputs": []
    },
    {
      "cell_type": "code",
      "metadata": {
        "id": "Nn2uE52-9ZgJ"
      },
      "source": [
        "# SVD\n",
        "engine = OneVsRestClassifier(SVC())\n",
        "scores['SVD_OvR'] = cross_validate(engine, data.data, data.target, scoring=scoring)\n",
        "engine = OneVsOneClassifier(SVC())\n",
        "scores['SVD_OvO'] = cross_validate(engine, data.data, data.target, scoring=scoring)\n",
        "engine = OutputCodeClassifier(SVC())\n",
        "scores['SVD_OC'] = cross_validate(engine, data.data, data.target, scoring=scoring)"
      ],
      "execution_count": 7,
      "outputs": []
    },
    {
      "cell_type": "code",
      "metadata": {
        "colab": {
          "base_uri": "https://localhost:8080/"
        },
        "id": "m4prjFPg9kAi",
        "outputId": "5b023727-cc48-40c2-d791-ec1e84bb87ee"
      },
      "source": [
        "for method, score in scores.items():\n",
        "\ttrain = np.mean(score['fit_time'])\n",
        "\ttest = np.mean(score['score_time'])\n",
        "\taccuracy = np.mean(score['test_accuracy'])\n",
        "\tprecision = np.mean(score['test_precision_weighted'])\n",
        "\trecall = np.mean(score['test_recall_weighted'])\n",
        "\tf1 = np.mean(score['test_f1_weighted'])\n",
        "\tprint(method+' '*(10-len(method))+\"\"\"TRAIN: {:.5f}s, TESTE: {:.5f}s, ACCURACY: {:.5f}, PRECISION: {:.5f}, RECALL: {:.5f}, F1: {:.5f}\"\"\".format(train, test, accuracy, precision, recall, f1))\n"
      ],
      "execution_count": 8,
      "outputs": [
        {
          "output_type": "stream",
          "name": "stdout",
          "text": [
            "LR_OvR    TRAIN: 0.33488s, TESTE: 0.00567s, ACCURACY: 0.92655, PRECISION: 0.93096, RECALL: 0.92655, F1: 0.92605\n",
            "LR_OvO    TRAIN: 0.57332s, TESTE: 0.01776s, ACCURACY: 0.94659, PRECISION: 0.95039, RECALL: 0.94659, F1: 0.94638\n",
            "LR_OC     TRAIN: 0.61160s, TESTE: 0.00856s, ACCURACY: 0.86476, PRECISION: 0.86897, RECALL: 0.86476, F1: 0.86219\n",
            "NB_OvR    TRAIN: 0.02259s, TESTE: 0.00787s, ACCURACY: 0.39790, PRECISION: 0.50093, RECALL: 0.39790, F1: 0.35941\n",
            "NB_OvO    TRAIN: 0.04253s, TESTE: 0.03938s, ACCURACY: 0.79746, PRECISION: 0.83211, RECALL: 0.79746, F1: 0.79574\n",
            "NB_OC     TRAIN: 0.03132s, TESTE: 0.01068s, ACCURACY: 0.32054, PRECISION: 0.35243, RECALL: 0.32054, F1: 0.25264\n",
            "KNN_OvR   TRAIN: 0.08906s, TESTE: 0.61699s, ACCURACY: 0.95994, PRECISION: 0.96193, RECALL: 0.95994, F1: 0.95991\n",
            "KNN_OvO   TRAIN: 0.07397s, TESTE: 1.75183s, ACCURACY: 0.95939, PRECISION: 0.96145, RECALL: 0.95939, F1: 0.95926\n",
            "KNN_OC    TRAIN: 0.13215s, TESTE: 0.90364s, ACCURACY: 0.95827, PRECISION: 0.96014, RECALL: 0.95827, F1: 0.95821\n",
            "DT_OvR    TRAIN: 0.12211s, TESTE: 0.00463s, ACCURACY: 0.76017, PRECISION: 0.83919, RECALL: 0.76017, F1: 0.77666\n",
            "DT_OvO    TRAIN: 0.09251s, TESTE: 0.01642s, ACCURACY: 0.85423, PRECISION: 0.87411, RECALL: 0.85423, F1: 0.85645\n",
            "DT_OC     TRAIN: 0.27188s, TESTE: 0.00587s, ACCURACY: 0.86034, PRECISION: 0.86637, RECALL: 0.86034, F1: 0.85856\n",
            "SVD_OvR   TRAIN: 0.27964s, TESTE: 0.05903s, ACCURACY: 0.95883, PRECISION: 0.96141, RECALL: 0.95883, F1: 0.95833\n",
            "SVD_OvO   TRAIN: 0.15252s, TESTE: 0.20662s, ACCURACY: 0.95995, PRECISION: 0.96444, RECALL: 0.95995, F1: 0.95978\n",
            "SVD_OC    TRAIN: 1.10814s, TESTE: 0.22302s, ACCURACY: 0.94938, PRECISION: 0.95380, RECALL: 0.94938, F1: 0.94907\n"
          ]
        }
      ]
    },
    {
      "cell_type": "code",
      "metadata": {
        "id": "o71DRu_t98nL"
      },
      "source": [
        ""
      ],
      "execution_count": null,
      "outputs": []
    }
  ]
}