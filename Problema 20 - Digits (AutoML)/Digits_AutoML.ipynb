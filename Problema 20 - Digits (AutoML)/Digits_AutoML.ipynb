{
  "nbformat": 4,
  "nbformat_minor": 0,
  "metadata": {
    "colab": {
      "name": "Digits_AutoML.ipynb",
      "provenance": [],
      "collapsed_sections": []
    },
    "kernelspec": {
      "name": "python3",
      "display_name": "Python 3"
    },
    "language_info": {
      "name": "python"
    }
  },
  "cells": [
    {
      "cell_type": "code",
      "metadata": {
        "id": "O6y14I2E8vcm"
      },
      "source": [
        "import autosklearn.classification\n",
        "from sklearn.datasets import load_digits\n",
        "from sklearn.model_selection import train_test_split\n",
        "from sklearn import metrics"
      ],
      "execution_count": 13,
      "outputs": []
    },
    {
      "cell_type": "code",
      "metadata": {
        "id": "O0eIWuWQ_Sa9"
      },
      "source": [
        "data = load_digits()\n",
        "X_train, X_test, y_train, y_test = train_test_split(data.data, data.target, test_size=0.50)"
      ],
      "execution_count": 5,
      "outputs": []
    },
    {
      "cell_type": "code",
      "metadata": {
        "id": "GH9TTeOP9BNI"
      },
      "source": [
        "cls = autosklearn.classification.AutoSklearnClassifier(per_run_time_limit=30, time_left_for_this_task=120)\n",
        "cls.fit(X_train, y_train)\n",
        "predictions = cls.predict(X_test)"
      ],
      "execution_count": 7,
      "outputs": []
    },
    {
      "cell_type": "code",
      "metadata": {
        "colab": {
          "base_uri": "https://localhost:8080/"
        },
        "id": "APN_li7q_G9q",
        "outputId": "cababcdc-5c98-4885-b7b0-d8982a0a3b98"
      },
      "source": [
        "print(cls.leaderboard())\n",
        "#print(cls.show_models())"
      ],
      "execution_count": 15,
      "outputs": [
        {
          "output_type": "stream",
          "name": "stdout",
          "text": [
            "          rank  ensemble_weight                 type      cost  duration\n",
            "model_id                                                                \n",
            "4            1             0.14           libsvm_svc  0.013468  1.038250\n",
            "3            2             0.14           libsvm_svc  0.020202  1.324332\n",
            "8            3             0.08   passive_aggressive  0.020202  6.298300\n",
            "17           4             0.04        random_forest  0.030303  2.969398\n",
            "16           5             0.04  k_nearest_neighbors  0.033670  1.142515\n",
            "2            6             0.04        random_forest  0.037037  2.874372\n",
            "14           7             0.08    gradient_boosting  0.050505  8.599273\n",
            "11           8             0.02                  mlp  0.053872  1.787809\n",
            "15           9             0.04           libsvm_svc  0.067340  1.146353\n",
            "12          10             0.16                  mlp  0.070707  3.354892\n",
            "13          11             0.06                  lda  0.084175  6.071977\n",
            "6           12             0.02    gradient_boosting  0.094276  2.848676\n",
            "10          13             0.14        random_forest  0.124579  3.985643\n"
          ]
        }
      ]
    },
    {
      "cell_type": "code",
      "metadata": {
        "colab": {
          "base_uri": "https://localhost:8080/"
        },
        "id": "dOo9pvZCAoEr",
        "outputId": "e2533ebe-1548-421f-e9c7-c1a53dc66d2c"
      },
      "source": [
        "predictions = cls.predict(X_test)\n",
        "print(\"Accuracy score:\", metrics.accuracy_score(y_test, predictions))"
      ],
      "execution_count": 16,
      "outputs": [
        {
          "output_type": "stream",
          "name": "stdout",
          "text": [
            "Accuracy score: 0.9799777530589544\n"
          ]
        }
      ]
    },
    {
      "cell_type": "code",
      "metadata": {
        "id": "wMxZ9xJTLCPV"
      },
      "source": [
        ""
      ],
      "execution_count": null,
      "outputs": []
    }
  ]
}